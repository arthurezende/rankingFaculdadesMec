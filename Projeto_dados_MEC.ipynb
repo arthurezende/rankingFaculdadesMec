{
  "nbformat": 4,
  "nbformat_minor": 0,
  "metadata": {
    "colab": {
      "provenance": [],
      "mount_file_id": "1OzHyM0CVLPSOlCVq0YQQay7frKli-lZu",
      "authorship_tag": "ABX9TyNPcPNCOdWP4wALUZbW8nD/",
      "include_colab_link": true
    },
    "kernelspec": {
      "name": "python3",
      "display_name": "Python 3"
    },
    "language_info": {
      "name": "python"
    }
  },
  "cells": [
    {
      "cell_type": "markdown",
      "metadata": {
        "id": "view-in-github",
        "colab_type": "text"
      },
      "source": [
        "<a href=\"https://colab.research.google.com/github/arthurezende/rankingFaculdadesMec/blob/main/Projeto_dados_MEC.ipynb\" target=\"_parent\"><img src=\"https://colab.research.google.com/assets/colab-badge.svg\" alt=\"Open In Colab\"/></a>"
      ]
    },
    {
      "cell_type": "code",
      "source": [
        "# Instalar dependências\n",
        "!pip install pandas openpyxl\n",
        "import pandas as pd"
      ],
      "metadata": {
        "collapsed": true,
        "id": "FT_LCNzYm03j"
      },
      "execution_count": null,
      "outputs": []
    },
    {
      "cell_type": "code",
      "source": [
        "# Conectar com Google Drive\n",
        "from google.colab import drive\n",
        "drive.mount('/content/drive')"
      ],
      "metadata": {
        "id": "I_hMpNNbm45K"
      },
      "execution_count": null,
      "outputs": []
    },
    {
      "cell_type": "code",
      "source": [
        "# Função para carregar DataFrame e tratar erros, lendo apenas colunas específicas\n",
        "def load_dataframe(filepath, filetype, columns, **kwargs):\n",
        "    try:\n",
        "        if filetype == 'csv':\n",
        "            return pd.read_csv(filepath, usecols=columns, **kwargs)\n",
        "        elif filetype == 'excel':\n",
        "            return pd.read_excel(filepath, usecols=columns, **kwargs)\n",
        "    except FileNotFoundError:\n",
        "        print(f\"Arquivo {filepath} não encontrado.\")\n",
        "        return None\n",
        "    except Exception as e:\n",
        "        print(f\"Erro ao carregar o arquivo {filepath}: {e}\")\n",
        "        return None\n",
        "\n",
        "# Selecionar colunas relevantes\n",
        "colunas_ies = ['NU_ANO_CENSO', 'SG_UF_IES', 'NO_MUNICIPIO_IES', 'TP_ORGANIZACAO_ACADEMICA', 'TP_REDE', 'CO_IES', 'NO_IES']\n",
        "colunas_cursos = ['NU_ANO_CENSO', 'SG_UF', 'NO_MUNICIPIO', 'TP_REDE', 'CO_IES', 'NO_CURSO', 'CO_CURSO', 'NO_CINE_ROTULO', 'NO_CINE_AREA_ESPECIFICA', 'TP_GRAU_ACADEMICO', 'IN_GRATUITO', 'TP_MODALIDADE_ENSINO', 'QT_VG_TOTAL', 'QT_INSCRITO_TOTAL']\n",
        "colunas_emec_ies = ['Código IES', 'CI', 'Ano CI', 'CI-EaD', 'Ano CI-EaD', 'IGC', 'Ano IGC']\n",
        "colunas_emec_cursos = ['Código IES', 'Código Curso', 'CC', 'Ano CC', 'CPC', 'Ano CPC', 'ENADE', 'Ano ENADE', 'IDD', 'Ano IDD', 'Situação', 'Vagas Autorizadas']\n",
        "\n",
        "### LEGENDA DOS DADOS\n",
        "\n",
        "## Dados da IES\n",
        "# NU_ANO_CENSO: Ano do Censo da IES (Fonte: Microdados IES)\n",
        "# SG_UF_IES: Sigla da Unidade Federativa da IES\n",
        "# NO_MUNICIPIO_IES: Nome do município da IES\n",
        "# TP_ORGANIZACAO_ACADEMICA: Tipo de organização acadêmica da IES\n",
        "# TP_REDE: Tipo de rede da IES (pública ou privada)\n",
        "# CO_IES: Código da IES\n",
        "# NO_IES: Nome da IES\n",
        "\n",
        "## Dados do curso\n",
        "# SG_UF: Sigla da Unidade Federativa do Curso\n",
        "# NO_MUNICIPIO: Nome do município do Curso\n",
        "# NO_CURSO: Nome do curso\n",
        "# CO_CURSO: Código do curso\n",
        "# NO_CINE_ROTULO: Nome do CINE (Classificação Nacional de Educação Superior) - Rótulo\n",
        "# NO_CINE_AREA_ESPECIFICA: Nome da área específica do CINE\n",
        "# TP_GRAU_ACADEMICO: Tipo de grau acadêmico do curso\n",
        "# IN_GRATUITO: Indicador de gratuidade do curso\n",
        "# TP_MODALIDADE_ENSINO: Tipo de modalidade de ensino do curso\n",
        "# QT_VG_TOTAL: Quantidade de vagas totais do curso\n",
        "# QT_INSCRITO_TOTAL: Quantidade de inscritos totais no curso\n",
        "\n",
        "## Dados E-MEC IES\n",
        "# CI: Conceito Institucional\n",
        "# CI-EaD: Conceito Institucional do Ensino a Distância\n",
        "# IGC: Índice Geral de Cursos\n",
        "# Ano CI, Ano CI-EaD, Ano IGC: Ano em que foi realizada a avaliação\n",
        "\n",
        "## Dados E-MEC Curso\n",
        "# CC: Conceito de Curso - nota de 1 a 5 atribuída após avaliação presencial do INEP/MEC\n",
        "# Ano CC: Ano em que foi realizada a avaliação presencial que gerou o CC\n",
        "# CPC: Conceito Preliminar de Curso - indicador de 1 a 5 que avalia qualidade dos cursos de graduação\n",
        "# Ano CPC: Ano em que foi calculado o Conceito Preliminar de Curso\n",
        "# ENADE: Nota de 1 a 5 do Exame Nacional de Desempenho dos Estudantes\n",
        "# Ano ENADE: Ano em que o curso participou do ENADE\n",
        "# IDD: Indicador de Diferença entre Desempenhos Observado e Esperado - mede valor agregado pelo curso\n",
        "# Ano IDD: Ano em que foi calculado o indicador IDD\n",
        "# Situação: Status atual do curso (Ativo, Suspenso, Extinto, etc.)\n",
        "# Vagas Autorizadas: Número de vagas que o MEC autorizou para o curso\n",
        "\n",
        "# Carregar os dados das bases, especificando as colunas a serem lidas\n",
        "df_ies = load_dataframe('/content/drive/MyDrive/Projeto Ext Faculdade Exame/MICRODADOS_ED_SUP_IES_2023.CSV', 'csv', colunas_ies, sep=';', encoding='latin-1', low_memory=False)\n",
        "if df_ies is None:\n",
        "    exit()\n",
        "\n",
        "df_cursos = load_dataframe('/content/drive/MyDrive/Projeto Ext Faculdade Exame/MICRODADOS_CADASTRO_CURSOS_2023.CSV', 'csv', colunas_cursos, sep=';', encoding='latin-1', low_memory=False)\n",
        "if df_cursos is None:\n",
        "    exit()\n",
        "\n",
        "df_emec_ies = load_dataframe('/content/drive/MyDrive/Projeto Ext Faculdade Exame/consulta-publica-emec-ies-20241205.xlsx', 'excel', colunas_emec_ies)\n",
        "if df_emec_ies is None:\n",
        "    exit()\n",
        "\n",
        "df_emec_cursos = load_dataframe('/content/drive/MyDrive/Projeto Ext Faculdade Exame/consulta-publica-emec-cursos-20241205.xlsx', 'excel', colunas_emec_cursos)\n",
        "if df_emec_cursos is None:\n",
        "    exit()"
      ],
      "metadata": {
        "id": "d5xF51MfnCfO"
      },
      "execution_count": 38,
      "outputs": []
    },
    {
      "cell_type": "code",
      "execution_count": 39,
      "metadata": {
        "colab": {
          "base_uri": "https://localhost:8080/"
        },
        "collapsed": true,
        "id": "6pI1IaTXmvBC",
        "outputId": "b4ff518b-3d9b-449e-dfad-7e6f2a9ad8b7"
      },
      "outputs": [
        {
          "output_type": "stream",
          "name": "stdout",
          "text": [
            "Arquivo dados_combinados.csv criado com sucesso!\n"
          ]
        }
      ],
      "source": [
        "# Renomear colunas\n",
        "df_emec_ies = df_emec_ies.rename(columns={'Código IES': 'CO_IES'})\n",
        "df_emec_cursos.rename(columns={'Código Curso': 'CO_CURSO'}, inplace=True)\n",
        "df_emec_cursos.drop_duplicates(subset=['CO_CURSO'], inplace=True)\n",
        "\n",
        "\n",
        "# Juntar os dataframes\n",
        "df_ies_e_cursos = pd.merge(df_ies, df_cursos, on='CO_IES', how='inner')\n",
        "df_merged = pd.merge(df_ies_e_cursos, df_emec_ies, on='CO_IES', how='inner')\n",
        "df_merged = pd.merge(df_merged, df_emec_cursos, on='CO_CURSO', how='left')\n",
        "\n",
        "# Remover colunas duplicadas (_x e _y)\n",
        "colunas_originais = {}\n",
        "for col in df_merged.columns:\n",
        "    if '_x' in col or '_y' in col:\n",
        "        col_original = col.replace('_x', '').replace('_y', '')\n",
        "        if col_original in colunas_originais:\n",
        "            # Se a coluna original já foi encontrada, remova a coluna atual\n",
        "            df_merged.drop(columns=[col], inplace=True)\n",
        "        else:\n",
        "            # Se a coluna original ainda não foi encontrada, renomeie a coluna atual\n",
        "            colunas_originais[col_original] = col\n",
        "            df_merged.rename(columns={col: col_original}, inplace=True)\n",
        "\n",
        "# Exportar para CSV\n",
        "try:\n",
        "    df_merged.to_csv('dados_combinados.csv', index=False, encoding='utf-8')\n",
        "    print(\"Arquivo dados_combinados.csv criado com sucesso!\")\n",
        "except Exception as e:\n",
        "    print(f\"Erro ao exportar o arquivo: {e}\")\n",
        "\n",
        "# Exibir informações e realizar verificações\n",
        "#print(df_merged.info())\n",
        "#print(df_merged.describe())\n",
        "#print(df_merged.head())\n",
        "\n",
        "#print(f\"O DataFrame df_merged possui {df_merged.shape[0]} linhas e {df_merged.shape[1]} colunas.\")\n",
        "\n",
        "# Filtrar e exibir cursos para um CO_IES específico\n",
        "#cursos_co_ies = df_merged[df_merged['CO_IES'] == 322]\n",
        "#print(cursos_co_ies)\n",
        "\n",
        "#Imprimir colunas para verificação\n",
        "#print(\"Colunas df_cursos:\", df_cursos.columns.tolist())\n",
        "#print(\"\\nColunas df_ies:\", df_ies.columns.tolist())\n",
        "#print(\"\\nColunas df_emec_ies:\", df_emec_ies.columns.tolist())\n",
        "#print(\"\\nColunas df_emec_cursos:\", df_emec_cursos.columns.tolist())\n",
        "#print(\"\\nColunas df_merged:\", df_merged.columns.tolist())"
      ]
    },
    {
      "cell_type": "code",
      "source": [
        "import os\n",
        "\n",
        "# Código que será escrito no arquivo app.py\n",
        "codigo = '''import streamlit as st\n",
        "import pandas as pd\n",
        "from st_aggrid import AgGrid, GridOptionsBuilder\n",
        "from st_aggrid.shared import GridUpdateMode\n",
        "\n",
        "# Configuração da página\n",
        "st.set_page_config(layout=\"wide\", page_title=\"Análise de Dados do MEC\")\n",
        "\n",
        "# Carregar os dados\n",
        "@st.cache_data\n",
        "def load_data():\n",
        "    df = pd.read_csv('dados_combinados.csv', encoding='utf-8', low_memory=False)\n",
        "    # Converter colunas para tipos numéricos, tratando valores não numéricos\n",
        "    for col in ['CI', 'CI-EaD', 'IGC', 'CC', 'CPC', 'ENADE', 'IDD']:\n",
        "        df[col] = pd.to_numeric(df[col], errors='coerce')\n",
        "    return df\n",
        "\n",
        "df_merged = load_data()\n",
        "\n",
        "# Sidebar com filtros\n",
        "st.sidebar.title(\"Filtros\")\n",
        "\n",
        "# Filtros para IES\n",
        "uf_filter = st.sidebar.multiselect('UF', df_merged['SG_UF_IES'].unique())\n",
        "org_academica_filter = st.sidebar.multiselect('Organização Acadêmica', df_merged['NO_IES'].unique())\n",
        "rede_filter = st.sidebar.multiselect('Tipo de Rede', ['Pública', 'Privada'])\n",
        "\n",
        "# Filtros para Cursos\n",
        "situacao_filter = st.sidebar.selectbox('Situação do Curso', ['Todos'] + list(df_merged['Situação'].unique()))\n",
        "\n",
        "# Função para aplicar filtros\n",
        "def apply_filters(df):\n",
        "    if uf_filter:\n",
        "        df = df[df['SG_UF_IES'].isin(uf_filter)]\n",
        "    if org_academica_filter:\n",
        "        df = df[df['NO_IES'].isin(org_academica_filter)]\n",
        "    if rede_filter:\n",
        "        df = df[df['TP_REDE'].isin([1 if 'Pública' in rede_filter else 2 if 'Privada' in rede_filter else None])]\n",
        "    if situacao_filter != 'Todos':\n",
        "        df = df[df['Situação'] == situacao_filter]\n",
        "    return df\n",
        "\n",
        "# Aplicar filtros\n",
        "filtered_df = apply_filters(df_merged)\n",
        "\n",
        "# Função para criar tabela com AgGrid\n",
        "def create_aggrid(df, columns, key):\n",
        "    gb = GridOptionsBuilder.from_dataframe(df[columns])\n",
        "    gb.configure_pagination(paginationAutoPageSize=True)\n",
        "    gb.configure_side_bar()\n",
        "    gb.configure_selection('single', use_checkbox=True, groupSelectsChildren=\"Group checkbox select children\")\n",
        "    gb.configure_default_column(sorteable=True, filterable=True)\n",
        "    gridOptions = gb.build()\n",
        "\n",
        "    return AgGrid(\n",
        "        df[columns],\n",
        "        gridOptions=gridOptions,\n",
        "        data_return_mode='AS_INPUT',\n",
        "        update_mode=GridUpdateMode.MODEL_CHANGED,\n",
        "        fit_columns_on_grid_load=False,\n",
        "        theme='streamlit',\n",
        "        enable_enterprise_modules=True,\n",
        "        height=400,\n",
        "        width='100%',\n",
        "        reload_data=True,\n",
        "        key=key\n",
        "    )\n",
        "\n",
        "# Visualização 1: Ranking IES\n",
        "st.title(\"Visualização 1: Ranking IES\")\n",
        "\n",
        "ies_columns = ['CO_IES', 'NO_IES', 'SG_UF_IES', 'NO_MUNICIPIO_IES', 'TP_ORGANIZACAO_ACADEMICA', 'TP_REDE',\n",
        "               'CI', 'CI-EaD', 'IGC', 'Ano CI', 'Ano CI-EaD', 'Ano IGC']\n",
        "\n",
        "ies_df = filtered_df.drop_duplicates(subset=['CO_IES'])[ies_columns]\n",
        "ies_df['TP_REDE'] = ies_df['TP_REDE'].map({1: 'Pública', 2: 'Privada'})\n",
        "\n",
        "create_aggrid(ies_df, ies_columns, 'ies_table')\n",
        "\n",
        "# Visualização 2: Ranking Cursos\n",
        "st.title(\"Visualização 2: Ranking Cursos\")\n",
        "\n",
        "cursos_columns = ['CO_IES', 'NO_IES', 'NO_CURSO', 'CC', 'Ano CC', 'CPC', 'ENADE', 'Ano ENADE', 'IDD', 'Situação']\n",
        "\n",
        "cursos_df = filtered_df[cursos_columns]\n",
        "\n",
        "create_aggrid(cursos_df, cursos_columns, 'cursos_table')\n",
        "'''\n",
        "\n",
        "# Criando o arquivo app.py e escrevendo o código nele\n",
        "with open('app.py', 'w') as file:\n",
        "    file.write(codigo)\n",
        "\n",
        "print(\"Arquivo app.py criado com sucesso!\")"
      ],
      "metadata": {
        "colab": {
          "base_uri": "https://localhost:8080/"
        },
        "id": "guoQEzJOB5TX",
        "outputId": "557483ad-33e6-4e00-dbbd-2249dbf56542"
      },
      "execution_count": 33,
      "outputs": [
        {
          "output_type": "stream",
          "name": "stdout",
          "text": [
            "Arquivo app3.py criado com sucesso!\n"
          ]
        }
      ]
    },
    {
      "cell_type": "code",
      "source": [
        "# Instalando Streamlit para gerar uma visualização web\n",
        "!pip install -q streamlit\n",
        "!pip install streamlit-aggrid\n",
        "!npm install localtunnel"
      ],
      "metadata": {
        "collapsed": true,
        "id": "0gTXNvjVsLZN"
      },
      "execution_count": null,
      "outputs": []
    },
    {
      "cell_type": "code",
      "source": [
        "# Imprimir o IP para usar no localtunnel\n",
        "print(\"Password/Endpoint IP for localtunnel is:\", urllib.request.urlopen('https://ipv4.icanhazip.com').read().decode('utf8').strip(\"\\n\"))\n",
        "!streamlit run app.py & npx localtunnel --port 8501"
      ],
      "metadata": {
        "collapsed": true,
        "id": "iGiUj3PnyacB"
      },
      "execution_count": null,
      "outputs": []
    }
  ]
}