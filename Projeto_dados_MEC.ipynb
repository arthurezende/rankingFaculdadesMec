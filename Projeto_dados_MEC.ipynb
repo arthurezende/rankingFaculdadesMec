{
  "nbformat": 4,
  "nbformat_minor": 0,
  "metadata": {
    "colab": {
      "provenance": [],
      "mount_file_id": "1OzHyM0CVLPSOlCVq0YQQay7frKli-lZu",
      "authorship_tag": "ABX9TyMXrGZPPgH3b7ywjnPDg0mo",
      "include_colab_link": true
    },
    "kernelspec": {
      "name": "python3",
      "display_name": "Python 3"
    },
    "language_info": {
      "name": "python"
    }
  },
  "cells": [
    {
      "cell_type": "markdown",
      "metadata": {
        "id": "view-in-github",
        "colab_type": "text"
      },
      "source": [
        "<a href=\"https://colab.research.google.com/github/arthurezende/rankingFaculdadesMec/blob/main/Projeto_dados_MEC.ipynb\" target=\"_parent\"><img src=\"https://colab.research.google.com/assets/colab-badge.svg\" alt=\"Open In Colab\"/></a>"
      ]
    },
    {
      "cell_type": "markdown",
      "source": [
        "##Projeto dados MEC"
      ],
      "metadata": {
        "id": "CEygvXhfw8II"
      }
    },
    {
      "cell_type": "code",
      "source": [
        "# Instalar dependências\n",
        "!pip install pandas openpyxl\n",
        "import pandas as pd"
      ],
      "metadata": {
        "collapsed": true,
        "id": "FT_LCNzYm03j"
      },
      "execution_count": null,
      "outputs": []
    },
    {
      "cell_type": "code",
      "source": [
        "# Conectar com Google Drive\n",
        "from google.colab import drive\n",
        "drive.mount('/content/drive')"
      ],
      "metadata": {
        "id": "I_hMpNNbm45K"
      },
      "execution_count": null,
      "outputs": []
    },
    {
      "cell_type": "code",
      "source": [
        "# Função para carregar DataFrame e tratar erros, lendo apenas colunas específicas\n",
        "def load_dataframe(filepath, filetype, columns, **kwargs):\n",
        "    try:\n",
        "        if filetype == 'csv':\n",
        "            return pd.read_csv(filepath, usecols=columns, **kwargs)\n",
        "        elif filetype == 'excel':\n",
        "            return pd.read_excel(filepath, usecols=columns, **kwargs)\n",
        "    except FileNotFoundError:\n",
        "        print(f\"Arquivo {filepath} não encontrado.\")\n",
        "        return None\n",
        "    except Exception as e:\n",
        "        print(f\"Erro ao carregar o arquivo {filepath}: {e}\")\n",
        "        return None\n",
        "\n",
        "# Selecionar colunas relevantes\n",
        "colunas_ies = ['NU_ANO_CENSO', 'SG_UF_IES', 'NO_MUNICIPIO_IES', 'TP_ORGANIZACAO_ACADEMICA', 'TP_REDE', 'CO_IES', 'NO_IES']\n",
        "colunas_cursos = ['NU_ANO_CENSO', 'SG_UF', 'NO_MUNICIPIO', 'TP_REDE', 'CO_IES', 'NO_CURSO', 'CO_CURSO', 'NO_CINE_ROTULO', 'NO_CINE_AREA_ESPECIFICA', 'TP_GRAU_ACADEMICO', 'IN_GRATUITO', 'TP_MODALIDADE_ENSINO', 'QT_VG_TOTAL', 'QT_INSCRITO_TOTAL']\n",
        "colunas_emec_ies = ['Código IES', 'CI', 'Ano CI', 'CI-EaD', 'Ano CI-EaD', 'IGC', 'Ano IGC']\n",
        "colunas_emec_cursos = ['Código IES', 'Código Curso', 'CC', 'Ano CC', 'CPC', 'Ano CPC', 'ENADE', 'Ano ENADE', 'IDD', 'Ano IDD', 'Situação', 'Vagas Autorizadas']\n",
        "\n",
        "### LEGENDA DOS DADOS\n",
        "\n",
        "## Dados da IES\n",
        "# NU_ANO_CENSO: Ano do Censo da IES (Fonte: Microdados IES)\n",
        "# SG_UF_IES: Sigla da Unidade Federativa da IES\n",
        "# NO_MUNICIPIO_IES: Nome do município da IES\n",
        "# TP_ORGANIZACAO_ACADEMICA: Tipo de organização acadêmica da IES\n",
        "# TP_REDE: Tipo de rede da IES (pública ou privada)\n",
        "# CO_IES: Código da IES\n",
        "# NO_IES: Nome da IES\n",
        "\n",
        "## Dados do curso\n",
        "# SG_UF: Sigla da Unidade Federativa do Curso\n",
        "# NO_MUNICIPIO: Nome do município do Curso\n",
        "# NO_CURSO: Nome do curso\n",
        "# CO_CURSO: Código do curso\n",
        "# NO_CINE_ROTULO: Nome do CINE (Classificação Nacional de Educação Superior) - Rótulo\n",
        "# NO_CINE_AREA_ESPECIFICA: Nome da área específica do CINE\n",
        "# TP_GRAU_ACADEMICO: Tipo de grau acadêmico do curso\n",
        "# IN_GRATUITO: Indicador de gratuidade do curso\n",
        "# TP_MODALIDADE_ENSINO: Tipo de modalidade de ensino do curso\n",
        "# QT_VG_TOTAL: Quantidade de vagas totais do curso\n",
        "# QT_INSCRITO_TOTAL: Quantidade de inscritos totais no curso\n",
        "\n",
        "## Dados E-MEC IES\n",
        "# CI: Conceito Institucional\n",
        "# CI-EaD: Conceito Institucional do Ensino a Distância\n",
        "# IGC: Índice Geral de Cursos\n",
        "# Ano CI, Ano CI-EaD, Ano IGC: Ano em que foi realizada a avaliação\n",
        "\n",
        "## Dados E-MEC Curso\n",
        "# CC: Conceito de Curso - nota de 1 a 5 atribuída após avaliação presencial do INEP/MEC\n",
        "# Ano CC: Ano em que foi realizada a avaliação presencial que gerou o CC\n",
        "# CPC: Conceito Preliminar de Curso - indicador de 1 a 5 que avalia qualidade dos cursos de graduação\n",
        "# Ano CPC: Ano em que foi calculado o Conceito Preliminar de Curso\n",
        "# ENADE: Nota de 1 a 5 do Exame Nacional de Desempenho dos Estudantes\n",
        "# Ano ENADE: Ano em que o curso participou do ENADE\n",
        "# IDD: Indicador de Diferença entre Desempenhos Observado e Esperado - mede valor agregado pelo curso\n",
        "# Ano IDD: Ano em que foi calculado o indicador IDD\n",
        "# Situação: Status atual do curso (Ativo, Suspenso, Extinto, etc.)\n",
        "# Vagas Autorizadas: Número de vagas que o MEC autorizou para o curso\n",
        "\n",
        "# Carregar os dados das bases, especificando as colunas a serem lidas\n",
        "df_ies = load_dataframe('/content/drive/MyDrive/Projeto Ext Faculdade Exame/MICRODADOS_ED_SUP_IES_2023.CSV', 'csv', colunas_ies, sep=';', encoding='latin-1', low_memory=False)\n",
        "if df_ies is None:\n",
        "    exit()\n",
        "\n",
        "df_cursos = load_dataframe('/content/drive/MyDrive/Projeto Ext Faculdade Exame/MICRODADOS_CADASTRO_CURSOS_2023.CSV', 'csv', colunas_cursos, sep=';', encoding='latin-1', low_memory=False)\n",
        "if df_cursos is None:\n",
        "    exit()\n",
        "\n",
        "df_emec_ies = load_dataframe('/content/drive/MyDrive/Projeto Ext Faculdade Exame/consulta-publica-emec-ies-20241205.xlsx', 'excel', colunas_emec_ies)\n",
        "if df_emec_ies is None:\n",
        "    exit()\n",
        "\n",
        "df_emec_cursos = load_dataframe('/content/drive/MyDrive/Projeto Ext Faculdade Exame/consulta-publica-emec-cursos-20241205.xlsx', 'excel', colunas_emec_cursos)\n",
        "if df_emec_cursos is None:\n",
        "    exit()"
      ],
      "metadata": {
        "id": "d5xF51MfnCfO"
      },
      "execution_count": null,
      "outputs": []
    },
    {
      "cell_type": "code",
      "execution_count": null,
      "metadata": {
        "colab": {
          "base_uri": "https://localhost:8080/"
        },
        "collapsed": true,
        "id": "6pI1IaTXmvBC",
        "outputId": "b4ff518b-3d9b-449e-dfad-7e6f2a9ad8b7"
      },
      "outputs": [
        {
          "output_type": "stream",
          "name": "stdout",
          "text": [
            "Arquivo dados_combinados.csv criado com sucesso!\n"
          ]
        }
      ],
      "source": [
        "# Renomear colunas\n",
        "df_emec_ies = df_emec_ies.rename(columns={'Código IES': 'CO_IES'})\n",
        "df_emec_cursos.rename(columns={'Código Curso': 'CO_CURSO'}, inplace=True)\n",
        "df_emec_cursos.drop_duplicates(subset=['CO_CURSO'], inplace=True)\n",
        "\n",
        "\n",
        "# Juntar os dataframes\n",
        "df_ies_e_cursos = pd.merge(df_ies, df_cursos, on='CO_IES', how='inner')\n",
        "df_merged = pd.merge(df_ies_e_cursos, df_emec_ies, on='CO_IES', how='inner')\n",
        "df_merged = pd.merge(df_merged, df_emec_cursos, on='CO_CURSO', how='left')\n",
        "\n",
        "# Remover colunas duplicadas (_x e _y)\n",
        "colunas_originais = {}\n",
        "for col in df_merged.columns:\n",
        "    if '_x' in col or '_y' in col:\n",
        "        col_original = col.replace('_x', '').replace('_y', '')\n",
        "        if col_original in colunas_originais:\n",
        "            # Se a coluna original já foi encontrada, remova a coluna atual\n",
        "            df_merged.drop(columns=[col], inplace=True)\n",
        "        else:\n",
        "            # Se a coluna original ainda não foi encontrada, renomeie a coluna atual\n",
        "            colunas_originais[col_original] = col\n",
        "            df_merged.rename(columns={col: col_original}, inplace=True)\n",
        "\n",
        "# Exportar para CSV\n",
        "try:\n",
        "    df_merged.to_csv('dados_combinados.csv', index=False, encoding='utf-8')\n",
        "    print(\"Arquivo dados_combinados.csv criado com sucesso!\")\n",
        "except Exception as e:\n",
        "    print(f\"Erro ao exportar o arquivo: {e}\")\n",
        "\n",
        "# Exibir informações e realizar verificações\n",
        "#print(df_merged.info())\n",
        "#print(df_merged.describe())\n",
        "#print(df_merged.head())\n",
        "\n",
        "#print(f\"O DataFrame df_merged possui {df_merged.shape[0]} linhas e {df_merged.shape[1]} colunas.\")\n",
        "\n",
        "# Filtrar e exibir cursos para um CO_IES específico\n",
        "#cursos_co_ies = df_merged[df_merged['CO_IES'] == 322]\n",
        "#print(cursos_co_ies)\n",
        "\n",
        "#Imprimir colunas para verificação\n",
        "#print(\"Colunas df_cursos:\", df_cursos.columns.tolist())\n",
        "#print(\"\\nColunas df_ies:\", df_ies.columns.tolist())\n",
        "#print(\"\\nColunas df_emec_ies:\", df_emec_ies.columns.tolist())\n",
        "#print(\"\\nColunas df_emec_cursos:\", df_emec_cursos.columns.tolist())\n",
        "#print(\"\\nColunas df_merged:\", df_merged.columns.tolist())"
      ]
    },
    {
      "cell_type": "code",
      "source": [
        "import os\n",
        "\n",
        "# Embaralha o DataFrame\n",
        "df_merged = df_merged.sample(frac=1, random_state=42).reset_index(drop=True)\n",
        "\n",
        "# Conta a quantidade de linhas por UF_IES\n",
        "uf_counts = df_merged['SG_UF_IES'].value_counts()\n",
        "\n",
        "# Calcula a quantidade de linhas a serem amostradas por UF_IES\n",
        "sample_size = 50000\n",
        "uf_sample_sizes = (uf_counts / uf_counts.sum()) * sample_size\n",
        "\n",
        "# Cria um novo DataFrame com as amostras\n",
        "sampled_df = pd.DataFrame()\n",
        "for uf, count in uf_sample_sizes.items():\n",
        "    uf_df = df_merged[df_merged['SG_UF_IES'] == uf].sample(n=int(count), random_state=42)\n",
        "    sampled_df = pd.concat([sampled_df, uf_df])\n",
        "\n",
        "# Define o caminho do arquivo\n",
        "filepath = '/content/drive/MyDrive/Projeto Ext Faculdade Exame/dados_reduzidos_50_mil_linhas-uf.csv'\n",
        "\n",
        "# Exporta o DataFrame para CSV\n",
        "try:\n",
        "    sampled_df.to_csv(filepath, index=False, encoding='utf-8')\n",
        "    print(f\"Arquivo '{filepath}' criado com sucesso!\")\n",
        "\n",
        "    # Informações sobre o arquivo\n",
        "    file_size = os.path.getsize(filepath)\n",
        "    print(f\"Tamanho do arquivo: {file_size} bytes\")\n",
        "\n",
        "    # Lê o arquivo exportado\n",
        "    df_exportado = pd.read_csv(filepath)\n",
        "    num_linhas = len(df_exportado)\n",
        "    print(f\"Número de linhas no arquivo exportado: {num_linhas}\")\n",
        "    print(\"Primeiras linhas do arquivo exportado:\")\n",
        "    print(df_exportado.head())\n",
        "    print(f\"O arquivo possui {df_exportado.shape[1]} colunas.\")\n",
        "    print(\"\\nEstatísticas do arquivo exportado:\")\n",
        "    print(df_exportado.describe())\n",
        "except Exception as e:\n",
        "    print(f\"Erro ao exportar ou processar o arquivo: {e}\")"
      ],
      "metadata": {
        "id": "JIaucI6ot7sy"
      },
      "execution_count": null,
      "outputs": []
    },
    {
      "cell_type": "code",
      "source": [
        "# Instalando Streamlit para gerar uma visualização web\n",
        "!pip install -q streamlit\n",
        "!pip install streamlit-aggrid\n",
        "!npm install localtunnel"
      ],
      "metadata": {
        "collapsed": true,
        "id": "0gTXNvjVsLZN"
      },
      "execution_count": null,
      "outputs": []
    },
    {
      "cell_type": "code",
      "source": [
        "# Imprimir o IP para usar no localtunnel\n",
        "print(\"Password/Endpoint IP for localtunnel is:\", urllib.request.urlopen('https://ipv4.icanhazip.com').read().decode('utf8').strip(\"\\n\"))\n",
        "!streamlit run app.py & npx localtunnel --port 8501"
      ],
      "metadata": {
        "collapsed": true,
        "id": "iGiUj3PnyacB"
      },
      "execution_count": null,
      "outputs": []
    }
  ]
}